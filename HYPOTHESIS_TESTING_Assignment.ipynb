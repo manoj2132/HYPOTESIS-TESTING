{
  "nbformat": 4,
  "nbformat_minor": 0,
  "metadata": {
    "colab": {
      "provenance": []
    },
    "kernelspec": {
      "name": "python3",
      "display_name": "Python 3"
    },
    "language_info": {
      "name": "python"
    }
  },
  "cells": [
    {
      "cell_type": "markdown",
      "source": [
        "**State the Hypotheses statement:**"
      ],
      "metadata": {
        "id": "UlvpCG3Pb6vx"
      }
    },
    {
      "cell_type": "markdown",
      "source": [
        "To state the hypotheses, you need to clearly define the null hypothesis (H0) and the alternative hypothesis (H1 or HA ).\n",
        "\n",
        "Null Hypothesis(H0):This is the hypothesis that there is no effect or no difference. It represents the status quo or a baseline scenario. You assume this to be true unless there is strong evidence against it.\n",
        "\n",
        "Alternative Hypothesis(H1):This is the hypothesis that there is an effect or a difference. It represents the scenario you're testing for, and you aim to provide evidence in support of this hypothesis."
      ],
      "metadata": {
        "id": "TN6mrCWgdadh"
      }
    },
    {
      "cell_type": "code",
      "execution_count": 1,
      "metadata": {
        "id": "wn2AuQRYbw9n"
      },
      "outputs": [],
      "source": [
        "import scipy.stats as stats\n"
      ]
    },
    {
      "cell_type": "code",
      "source": [
        "# Given values\n",
        "observed_mean = 3050  # observed sample mean\n",
        "theoretical_mean = 1000 + 5 * 600  # theoretical mean based on the model\n",
        "n = 25  # sample size\n",
        "sigma_x = 25"
      ],
      "metadata": {
        "id": "AXAqiBwneVoa"
      },
      "execution_count": 2,
      "outputs": []
    },
    {
      "cell_type": "code",
      "source": [
        "# Standard error calculation\n",
        "SE = 5 * (sigma_x / n**0.5)\n",
        "SE"
      ],
      "metadata": {
        "colab": {
          "base_uri": "https://localhost:8080/"
        },
        "id": "EnXuNiYDep-9",
        "outputId": "890ec0d4-2c69-4d00-8794-c69ddd738de1"
      },
      "execution_count": 7,
      "outputs": [
        {
          "output_type": "execute_result",
          "data": {
            "text/plain": [
              "25.0"
            ]
          },
          "metadata": {},
          "execution_count": 7
        }
      ]
    },
    {
      "cell_type": "markdown",
      "source": [
        "**Make a Decision**"
      ],
      "metadata": {
        "id": "XFxQCRtNgd5f"
      }
    },
    {
      "cell_type": "code",
      "source": [
        "# Z-score calculation\n",
        "z_score = (observed_mean - theoretical_mean) / SE\n",
        "z_score"
      ],
      "metadata": {
        "colab": {
          "base_uri": "https://localhost:8080/"
        },
        "id": "mNUr3vV7eyGO",
        "outputId": "3cc7ebc7-7419-4e67-e060-4ac5a1129212"
      },
      "execution_count": 8,
      "outputs": [
        {
          "output_type": "execute_result",
          "data": {
            "text/plain": [
              "-38.0"
            ]
          },
          "metadata": {},
          "execution_count": 8
        }
      ]
    },
    {
      "cell_type": "code",
      "source": [
        "# P-value calculation (two-tailed test)\n",
        "p_value = 2 * (1 - stats.norm.cdf(abs(z_score)))\n",
        "p_value"
      ],
      "metadata": {
        "colab": {
          "base_uri": "https://localhost:8080/"
        },
        "id": "vb2a9jjFeyDC",
        "outputId": "3d766ce5-b215-4a67-e251-ab2da4fdf8b1"
      },
      "execution_count": 9,
      "outputs": [
        {
          "output_type": "execute_result",
          "data": {
            "text/plain": [
              "0.0"
            ]
          },
          "metadata": {},
          "execution_count": 9
        }
      ]
    },
    {
      "cell_type": "markdown",
      "source": [
        "**Conclusion**"
      ],
      "metadata": {
        "id": "LjCrl4gZgW77"
      }
    },
    {
      "cell_type": "code",
      "source": [
        "if p_value < 0.05:\n",
        "    print(\"Reject H0: There is evidence to suggest a relationship between the variables.\")\n",
        "else:\n",
        "    print(\"Fail to Reject H0: There is not enough evidence to suggest a relationship between the variables.\")\n"
      ],
      "metadata": {
        "colab": {
          "base_uri": "https://localhost:8080/"
        },
        "id": "QRGskeQEeyAI",
        "outputId": "e5f67528-9040-4b4b-96fa-0af4aaf771df"
      },
      "execution_count": 11,
      "outputs": [
        {
          "output_type": "stream",
          "name": "stdout",
          "text": [
            "Reject H0: There is evidence to suggest a relationship between the variables.\n"
          ]
        }
      ]
    },
    {
      "cell_type": "code",
      "source": [],
      "metadata": {
        "id": "oWmyfKH9ex9y"
      },
      "execution_count": null,
      "outputs": []
    }
  ]
}